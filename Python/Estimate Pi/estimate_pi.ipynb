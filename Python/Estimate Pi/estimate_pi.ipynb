{
 "cells": [
  {
   "cell_type": "code",
   "execution_count": 1,
   "id": "af28ea07",
   "metadata": {},
   "outputs": [],
   "source": [
    "import numpy as np\n",
    "import matplotlib.pyplot as plt\n",
    "import ipywidgets as widgets"
   ]
  },
  {
   "cell_type": "code",
   "execution_count": 2,
   "id": "4c8a9a1d",
   "metadata": {},
   "outputs": [],
   "source": [
    "def pi_estimate_plot(n):\n",
    "    x = np.random.uniform(-1, 1, n)\n",
    "    y = np.random.uniform(-1, 1, n)\n",
    "    incircle = (1, 0.4, 0.502)\n",
    "    outcircle = (0.188, 0.549, 0.988)\n",
    "    colours = []\n",
    "    incount = 0\n",
    "    totalcount = 0\n",
    "    \n",
    "    for num in range(n):\n",
    "        line_length = (x[num] ** 2 + y[num] ** 2) ** 0.5\n",
    "        if line_length <= 1:\n",
    "            colours.append(incircle)\n",
    "            incount += 1\n",
    "        else:\n",
    "            colours.append(outcircle)\n",
    "        totalcount += 1\n",
    "    \n",
    "    pi_estimate = round(4 * (incount / totalcount),2)\n",
    "   \n",
    "    fig, ax = plt.subplots()\n",
    "    ax.scatter(x,y, c=colours)\n",
    "\n",
    "    ax.set_xbound(-1,1)\n",
    "    ax.set_ybound(-1,1)\n",
    "    ax.set_box_aspect(1)\n",
    "    pi_text = f\"Pi estimate: {pi_estimate}\"\n",
    "    ax.text(0.15, 0.85, pi_text, color='black', bbox=dict(facecolor='white', edgecolor='black', boxstyle='round,pad=0.5'))\n",
    "    plt.show()"
   ]
  },
  {
   "cell_type": "code",
   "execution_count": null,
   "id": "8c1f7dd6",
   "metadata": {},
   "outputs": [
    {
     "data": {
      "application/vnd.jupyter.widget-view+json": {
       "model_id": "9e5c5b09bde2448d9db63150afe91691",
       "version_major": 2,
       "version_minor": 0
      },
      "text/plain": [
       "interactive(children=(IntSlider(value=10, description='n', max=100000, min=10, step=10), Output()), _dom_class…"
      ]
     },
     "metadata": {},
     "output_type": "display_data"
    },
    {
     "data": {
      "text/plain": [
       "<function __main__.pi_estimate_plot(n)>"
      ]
     },
     "execution_count": 3,
     "metadata": {},
     "output_type": "execute_result"
    }
   ],
   "source": [
    "widgets.interact(pi_estimate_plot, n=widgets.IntSlider(min=10, max=10000, step=10, value=1))"
   ]
  },
  {
   "cell_type": "code",
   "execution_count": null,
   "id": "72a8a27b",
   "metadata": {},
   "outputs": [],
   "source": []
  }
 ],
 "metadata": {
  "kernelspec": {
   "display_name": "base",
   "language": "python",
   "name": "python3"
  },
  "language_info": {
   "codemirror_mode": {
    "name": "ipython",
    "version": 3
   },
   "file_extension": ".py",
   "mimetype": "text/x-python",
   "name": "python",
   "nbconvert_exporter": "python",
   "pygments_lexer": "ipython3",
   "version": "3.11.5"
  }
 },
 "nbformat": 4,
 "nbformat_minor": 5
}
